{
 "cells": [
  {
   "cell_type": "code",
   "execution_count": 1,
   "id": "e01bdf47-3a8a-412e-89e9-5e528bf5cdcc",
   "metadata": {},
   "outputs": [],
   "source": [
    "## Task1 -- TO-DO LIST"
   ]
  },
  {
   "cell_type": "code",
   "execution_count": null,
   "id": "40926f5d-1b7f-4696-8ac3-2edb748e461b",
   "metadata": {},
   "outputs": [
    {
     "name": "stdout",
     "output_type": "stream",
     "text": [
      "*********Welcome To The Task Management App**********\n"
     ]
    },
    {
     "name": "stdin",
     "output_type": "stream",
     "text": [
      "enter how many task you want to add =  2\n",
      "enter task 1= add\n",
      "enter task 2= update \n"
     ]
    },
    {
     "name": "stdout",
     "output_type": "stream",
     "text": [
      "today's tasks are\n",
      "['add', 'update ']\n"
     ]
    }
   ],
   "source": [
    "def task():\n",
    "    tasks=[]\n",
    "    print(\"*********Welcome To The Task Management App**********\")\n",
    "\n",
    "    total_task=int(input(\"enter how many task you want to add = \"))\n",
    "    for i in range(1,total_task+1):\n",
    "        task_name=input(f\"enter task {i}=\")\n",
    "        tasks.append(task_name)\n",
    "    print(f\"today's tasks are\\n{tasks}\")\n",
    "    while True:\n",
    "        operation = int(input(\"enter 1-ADD\\n 2-Update\\n 3-Delete\\n 4-View\\n 5-Exit\\n\"))\n",
    "        if operation == 1:\n",
    "            add = input(\"enter task you want to add=\")\n",
    "            tasks.append(add)\n",
    "            print(f\"Task {add} has been Successfully added__\")\n",
    "        elif operation == 2:\n",
    "            update = input(\"enter the task name you want to update = \")\n",
    "            if update in tasks:\n",
    "                up = input(\"enter new task=\")\n",
    "                ind = tasks.index(update)\n",
    "                tasks[ind] = up\n",
    "                print(f\"Update task{up}\")\n",
    "        elif operation == 3:\n",
    "            delete_val = input(\"which task you want ot delete =\")\n",
    "            if delete_val in tasks:\n",
    "                ind = tasks.index(delete_val)\n",
    "                del tasks[ind]\n",
    "                print(f\"task {delete_val} has been deleted__\")\n",
    "        elif operation == 4:\n",
    "            print(f\"total tasks = {tasks}\")\n",
    "        elif operation == 5:\n",
    "            print(\"Closing the program.....\")\n",
    "            break\n",
    "        else:\n",
    "            print(\"invalid input\")\n",
    "print( task())"
   ]
  },
  {
   "cell_type": "code",
   "execution_count": null,
   "id": "36ae7084-09d5-4c8a-918c-b454329f483b",
   "metadata": {},
   "outputs": [],
   "source": []
  }
 ],
 "metadata": {
  "kernelspec": {
   "display_name": "Python 3 (ipykernel)",
   "language": "python",
   "name": "python3"
  },
  "language_info": {
   "codemirror_mode": {
    "name": "ipython",
    "version": 3
   },
   "file_extension": ".py",
   "mimetype": "text/x-python",
   "name": "python",
   "nbconvert_exporter": "python",
   "pygments_lexer": "ipython3",
   "version": "3.11.7"
  }
 },
 "nbformat": 4,
 "nbformat_minor": 5
}
